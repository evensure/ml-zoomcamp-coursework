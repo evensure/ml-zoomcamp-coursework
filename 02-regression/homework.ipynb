{
 "cells": [
  {
   "cell_type": "markdown",
   "metadata": {},
   "source": [
    "# Homework\n",
    "\n",
    "    Note: sometimes your answer doesn't match one of the options exactly. That's fine. Select the option that's closest to your solution.\n",
    "\n",
    "Dataset\n",
    "\n",
    "For this homework, we'll use the Car Fuel Efficiency dataset. Download it from here.\n",
    "\n",
    "You can do it with wget:\n",
    "\n",
    "wget https://raw.githubusercontent.com/alexeygrigorev/datasets/master/car_fuel_efficiency.csv\n",
    "\n",
    "The goal of this homework is to create a regression model for predicting the car fuel efficiency (column 'fuel_efficiency_mpg').\n",
    "Preparing the dataset\n",
    "\n",
    "Use only the following columns:\n",
    "\n",
    "    'engine_displacement',\n",
    "    'horsepower',\n",
    "    'vehicle_weight',\n",
    "    'model_year',\n",
    "    'fuel_efficiency_mpg'\n"
   ]
  },
  {
   "cell_type": "code",
   "execution_count": 1,
   "metadata": {},
   "outputs": [],
   "source": [
    "import pandas as pd\n",
    "import numpy as np\n",
    "\n",
    "import seaborn as sns\n",
    "from matplotlib import pyplot as plt\n",
    "%matplotlib inline"
   ]
  },
  {
   "cell_type": "code",
   "execution_count": 2,
   "metadata": {},
   "outputs": [
    {
     "name": "stdout",
     "output_type": "stream",
     "text": [
      "--2025-10-07 12:03:15--  https://raw.githubusercontent.com/alexeygrigorev/datasets/master/car_fuel_efficiency.csv\n",
      "Loaded CA certificate '/etc/ssl/certs/ca-certificates.crt'\n",
      "Resolving raw.githubusercontent.com (raw.githubusercontent.com)... 185.199.111.133, 185.199.110.133, 185.199.108.133, ...\n",
      "Connecting to raw.githubusercontent.com (raw.githubusercontent.com)|185.199.111.133|:443... connected.\n",
      "HTTP request sent, awaiting response... 200 OK\n",
      "Length: 874188 (854K) [text/plain]\n",
      "Saving to: ‘car_fuel_efficiency.csv’\n",
      "\n",
      "car_fuel_efficiency 100%[===================>] 853,70K  4,26MB/s    in 0,2s    \n",
      "\n",
      "2025-10-07 12:03:16 (4,26 MB/s) - ‘car_fuel_efficiency.csv’ saved [874188/874188]\n",
      "\n"
     ]
    }
   ],
   "source": [
    "data = 'https://raw.githubusercontent.com/alexeygrigorev/datasets/master/car_fuel_efficiency.csv'\n",
    "!wget $data -O car_fuel_efficiency.csv"
   ]
  },
  {
   "cell_type": "code",
   "execution_count": 3,
   "metadata": {},
   "outputs": [
    {
     "data": {
      "text/plain": [
       "9704"
      ]
     },
     "execution_count": 3,
     "metadata": {},
     "output_type": "execute_result"
    }
   ],
   "source": [
    "df = pd.read_csv('car_fuel_efficiency.csv')\n",
    "len(df)"
   ]
  },
  {
   "cell_type": "code",
   "execution_count": 4,
   "metadata": {},
   "outputs": [
    {
     "data": {
      "text/html": [
       "<div>\n",
       "<style scoped>\n",
       "    .dataframe tbody tr th:only-of-type {\n",
       "        vertical-align: middle;\n",
       "    }\n",
       "\n",
       "    .dataframe tbody tr th {\n",
       "        vertical-align: top;\n",
       "    }\n",
       "\n",
       "    .dataframe thead th {\n",
       "        text-align: right;\n",
       "    }\n",
       "</style>\n",
       "<table border=\"1\" class=\"dataframe\">\n",
       "  <thead>\n",
       "    <tr style=\"text-align: right;\">\n",
       "      <th></th>\n",
       "      <th>engine_displacement</th>\n",
       "      <th>num_cylinders</th>\n",
       "      <th>horsepower</th>\n",
       "      <th>vehicle_weight</th>\n",
       "      <th>acceleration</th>\n",
       "      <th>model_year</th>\n",
       "      <th>origin</th>\n",
       "      <th>fuel_type</th>\n",
       "      <th>drivetrain</th>\n",
       "      <th>num_doors</th>\n",
       "      <th>fuel_efficiency_mpg</th>\n",
       "    </tr>\n",
       "  </thead>\n",
       "  <tbody>\n",
       "    <tr>\n",
       "      <th>0</th>\n",
       "      <td>170</td>\n",
       "      <td>3.0</td>\n",
       "      <td>159.0</td>\n",
       "      <td>3413.433759</td>\n",
       "      <td>17.7</td>\n",
       "      <td>2003</td>\n",
       "      <td>Europe</td>\n",
       "      <td>Gasoline</td>\n",
       "      <td>All-wheel drive</td>\n",
       "      <td>0.0</td>\n",
       "      <td>13.231729</td>\n",
       "    </tr>\n",
       "    <tr>\n",
       "      <th>1</th>\n",
       "      <td>130</td>\n",
       "      <td>5.0</td>\n",
       "      <td>97.0</td>\n",
       "      <td>3149.664934</td>\n",
       "      <td>17.8</td>\n",
       "      <td>2007</td>\n",
       "      <td>USA</td>\n",
       "      <td>Gasoline</td>\n",
       "      <td>Front-wheel drive</td>\n",
       "      <td>0.0</td>\n",
       "      <td>13.688217</td>\n",
       "    </tr>\n",
       "    <tr>\n",
       "      <th>2</th>\n",
       "      <td>170</td>\n",
       "      <td>NaN</td>\n",
       "      <td>78.0</td>\n",
       "      <td>3079.038997</td>\n",
       "      <td>15.1</td>\n",
       "      <td>2018</td>\n",
       "      <td>Europe</td>\n",
       "      <td>Gasoline</td>\n",
       "      <td>Front-wheel drive</td>\n",
       "      <td>0.0</td>\n",
       "      <td>14.246341</td>\n",
       "    </tr>\n",
       "    <tr>\n",
       "      <th>3</th>\n",
       "      <td>220</td>\n",
       "      <td>4.0</td>\n",
       "      <td>NaN</td>\n",
       "      <td>2542.392402</td>\n",
       "      <td>20.2</td>\n",
       "      <td>2009</td>\n",
       "      <td>USA</td>\n",
       "      <td>Diesel</td>\n",
       "      <td>All-wheel drive</td>\n",
       "      <td>2.0</td>\n",
       "      <td>16.912736</td>\n",
       "    </tr>\n",
       "    <tr>\n",
       "      <th>4</th>\n",
       "      <td>210</td>\n",
       "      <td>1.0</td>\n",
       "      <td>140.0</td>\n",
       "      <td>3460.870990</td>\n",
       "      <td>14.4</td>\n",
       "      <td>2009</td>\n",
       "      <td>Europe</td>\n",
       "      <td>Gasoline</td>\n",
       "      <td>All-wheel drive</td>\n",
       "      <td>2.0</td>\n",
       "      <td>12.488369</td>\n",
       "    </tr>\n",
       "  </tbody>\n",
       "</table>\n",
       "</div>"
      ],
      "text/plain": [
       "   engine_displacement  num_cylinders  horsepower  vehicle_weight  \\\n",
       "0                  170            3.0       159.0     3413.433759   \n",
       "1                  130            5.0        97.0     3149.664934   \n",
       "2                  170            NaN        78.0     3079.038997   \n",
       "3                  220            4.0         NaN     2542.392402   \n",
       "4                  210            1.0       140.0     3460.870990   \n",
       "\n",
       "   acceleration  model_year  origin fuel_type         drivetrain  num_doors  \\\n",
       "0          17.7        2003  Europe  Gasoline    All-wheel drive        0.0   \n",
       "1          17.8        2007     USA  Gasoline  Front-wheel drive        0.0   \n",
       "2          15.1        2018  Europe  Gasoline  Front-wheel drive        0.0   \n",
       "3          20.2        2009     USA    Diesel    All-wheel drive        2.0   \n",
       "4          14.4        2009  Europe  Gasoline    All-wheel drive        2.0   \n",
       "\n",
       "   fuel_efficiency_mpg  \n",
       "0            13.231729  \n",
       "1            13.688217  \n",
       "2            14.246341  \n",
       "3            16.912736  \n",
       "4            12.488369  "
      ]
     },
     "execution_count": 4,
     "metadata": {},
     "output_type": "execute_result"
    }
   ],
   "source": [
    "df.head()"
   ]
  },
  {
   "cell_type": "code",
   "execution_count": 5,
   "metadata": {},
   "outputs": [],
   "source": [
    "df.columns = df.columns.str.lower().str.replace(' ', '_')\n",
    "\n",
    "string_columns = list(df.dtypes[df.dtypes == 'object'].index)\n",
    "\n",
    "for col in string_columns:\n",
    "    df[col] = df[col].str.lower().str.replace(' ', '_')"
   ]
  },
  {
   "cell_type": "code",
   "execution_count": 6,
   "metadata": {},
   "outputs": [],
   "source": [
    "cols = [\n",
    "    'engine_displacement',\n",
    "    'horsepower',\n",
    "    'vehicle_weight',\n",
    "    'model_year',\n",
    "    'fuel_efficiency_mpg'\n",
    "]\n",
    "\n",
    "df = df[cols]"
   ]
  },
  {
   "cell_type": "code",
   "execution_count": 7,
   "metadata": {},
   "outputs": [
    {
     "data": {
      "text/html": [
       "<div>\n",
       "<style scoped>\n",
       "    .dataframe tbody tr th:only-of-type {\n",
       "        vertical-align: middle;\n",
       "    }\n",
       "\n",
       "    .dataframe tbody tr th {\n",
       "        vertical-align: top;\n",
       "    }\n",
       "\n",
       "    .dataframe thead th {\n",
       "        text-align: right;\n",
       "    }\n",
       "</style>\n",
       "<table border=\"1\" class=\"dataframe\">\n",
       "  <thead>\n",
       "    <tr style=\"text-align: right;\">\n",
       "      <th></th>\n",
       "      <th>engine_displacement</th>\n",
       "      <th>horsepower</th>\n",
       "      <th>vehicle_weight</th>\n",
       "      <th>model_year</th>\n",
       "      <th>fuel_efficiency_mpg</th>\n",
       "    </tr>\n",
       "  </thead>\n",
       "  <tbody>\n",
       "    <tr>\n",
       "      <th>0</th>\n",
       "      <td>170</td>\n",
       "      <td>159.0</td>\n",
       "      <td>3413.433759</td>\n",
       "      <td>2003</td>\n",
       "      <td>13.231729</td>\n",
       "    </tr>\n",
       "    <tr>\n",
       "      <th>1</th>\n",
       "      <td>130</td>\n",
       "      <td>97.0</td>\n",
       "      <td>3149.664934</td>\n",
       "      <td>2007</td>\n",
       "      <td>13.688217</td>\n",
       "    </tr>\n",
       "    <tr>\n",
       "      <th>2</th>\n",
       "      <td>170</td>\n",
       "      <td>78.0</td>\n",
       "      <td>3079.038997</td>\n",
       "      <td>2018</td>\n",
       "      <td>14.246341</td>\n",
       "    </tr>\n",
       "    <tr>\n",
       "      <th>3</th>\n",
       "      <td>220</td>\n",
       "      <td>NaN</td>\n",
       "      <td>2542.392402</td>\n",
       "      <td>2009</td>\n",
       "      <td>16.912736</td>\n",
       "    </tr>\n",
       "    <tr>\n",
       "      <th>4</th>\n",
       "      <td>210</td>\n",
       "      <td>140.0</td>\n",
       "      <td>3460.870990</td>\n",
       "      <td>2009</td>\n",
       "      <td>12.488369</td>\n",
       "    </tr>\n",
       "  </tbody>\n",
       "</table>\n",
       "</div>"
      ],
      "text/plain": [
       "   engine_displacement  horsepower  vehicle_weight  model_year  \\\n",
       "0                  170       159.0     3413.433759        2003   \n",
       "1                  130        97.0     3149.664934        2007   \n",
       "2                  170        78.0     3079.038997        2018   \n",
       "3                  220         NaN     2542.392402        2009   \n",
       "4                  210       140.0     3460.870990        2009   \n",
       "\n",
       "   fuel_efficiency_mpg  \n",
       "0            13.231729  \n",
       "1            13.688217  \n",
       "2            14.246341  \n",
       "3            16.912736  \n",
       "4            12.488369  "
      ]
     },
     "execution_count": 7,
     "metadata": {},
     "output_type": "execute_result"
    }
   ],
   "source": [
    "df.head()"
   ]
  },
  {
   "cell_type": "markdown",
   "metadata": {},
   "source": [
    "## Exploratory data analysis"
   ]
  },
  {
   "cell_type": "markdown",
   "metadata": {},
   "source": [
    "## EDA\n",
    "\n",
    "    Look at the fuel_efficiency_mpg variable. Does it have a long tail?\n"
   ]
  },
  {
   "cell_type": "code",
   "execution_count": 8,
   "metadata": {},
   "outputs": [
    {
     "data": {
      "image/png": "[encoded data removed]",
      "text/plain": [
       "<Figure size 600x400 with 1 Axes>"
      ]
     },
     "metadata": {},
     "output_type": "display_data"
    }
   ],
   "source": [
    "plt.figure(figsize=(6, 4))\n",
    "\n",
    "sns.histplot(df.fuel_efficiency_mpg, bins=50, color='black', alpha=1)\n",
    "plt.ylabel('Frequency')\n",
    "plt.xlabel('fuel_efficiency_mpg')\n",
    "plt.title('Distribution of Fuel Efficiencies (MPGs)')\n",
    "\n",
    "plt.show()"
   ]
  },
  {
   "cell_type": "markdown",
   "metadata": {},
   "source": [
    "## Question 1\n",
    "\n",
    "There's one column with missing values. What is it?\n",
    "\n",
    "    'engine_displacement'\n",
    "    'horsepower'\n",
    "    'vehicle_weight'\n",
    "    'model_year'\n"
   ]
  },
  {
   "cell_type": "code",
   "execution_count": 9,
   "metadata": {},
   "outputs": [
    {
     "data": {
      "text/plain": [
       "engine_displacement      0\n",
       "horsepower             708\n",
       "vehicle_weight           0\n",
       "model_year               0\n",
       "fuel_efficiency_mpg      0\n",
       "dtype: int64"
      ]
     },
     "execution_count": 9,
     "metadata": {},
     "output_type": "execute_result"
    }
   ],
   "source": [
    "df.isnull().sum()"
   ]
  },
  {
   "cell_type": "markdown",
   "metadata": {},
   "source": [
    "## Question 2\n",
    "\n",
    "What's the median (50% percentile) for variable 'horsepower'?\n",
    "\n",
    "    49\n",
    "    99\n",
    "    149\n",
    "    199\n"
   ]
  },
  {
   "cell_type": "code",
   "execution_count": 10,
   "metadata": {},
   "outputs": [
    {
     "data": {
      "text/plain": [
       "np.float64(149.0)"
      ]
     },
     "execution_count": 10,
     "metadata": {},
     "output_type": "execute_result"
    }
   ],
   "source": [
    "df.horsepower.median()"
   ]
  },
  {
   "cell_type": "markdown",
   "metadata": {},
   "source": [
    "## Validation framework"
   ]
  },
  {
   "cell_type": "markdown",
   "metadata": {},
   "source": [
    "## Prepare and split the dataset\n",
    "\n",
    "    Shuffle the dataset (the filtered one you created above), use seed 42.\n",
    "    Split your data in train/val/test sets, with 60%/20%/20% distribution.\n",
    "\n",
    "Use the same code as in the lectures\n",
    "\n",
    "# Question 3\n",
    "\n",
    "- We need to deal with missing values for the column from Q1.\n",
    "- We have two options: fill it with 0 or with the mean of this variable.\n",
    "- Try both options. For each, train a linear regression model without regularization using the code from the lessons.\n",
    "- For computing the mean, use the training only!\n",
    "- Use the validation dataset to evaluate the models and compare the RMSE of each option.\n",
    "- Round the RMSE scores to 2 decimal digits using round(score, 2)\n",
    "- Which option gives better RMSE?\n",
    "\n",
    "Options:\n",
    "\n",
    "- With 0\n",
    "- With mean\n",
    "- Both are equally good\n"
   ]
  },
  {
   "cell_type": "code",
   "execution_count": 11,
   "metadata": {},
   "outputs": [
    {
     "data": {
      "text/html": [
       "<div>\n",
       "<style scoped>\n",
       "    .dataframe tbody tr th:only-of-type {\n",
       "        vertical-align: middle;\n",
       "    }\n",
       "\n",
       "    .dataframe tbody tr th {\n",
       "        vertical-align: top;\n",
       "    }\n",
       "\n",
       "    .dataframe thead th {\n",
       "        text-align: right;\n",
       "    }\n",
       "</style>\n",
       "<table border=\"1\" class=\"dataframe\">\n",
       "  <thead>\n",
       "    <tr style=\"text-align: right;\">\n",
       "      <th></th>\n",
       "      <th>engine_displacement</th>\n",
       "      <th>horsepower</th>\n",
       "      <th>vehicle_weight</th>\n",
       "      <th>model_year</th>\n",
       "      <th>fuel_efficiency_mpg</th>\n",
       "    </tr>\n",
       "  </thead>\n",
       "  <tbody>\n",
       "    <tr>\n",
       "      <th>0</th>\n",
       "      <td>170</td>\n",
       "      <td>159.0</td>\n",
       "      <td>3413.433759</td>\n",
       "      <td>2003</td>\n",
       "      <td>13.231729</td>\n",
       "    </tr>\n",
       "    <tr>\n",
       "      <th>1</th>\n",
       "      <td>130</td>\n",
       "      <td>97.0</td>\n",
       "      <td>3149.664934</td>\n",
       "      <td>2007</td>\n",
       "      <td>13.688217</td>\n",
       "    </tr>\n",
       "    <tr>\n",
       "      <th>2</th>\n",
       "      <td>170</td>\n",
       "      <td>78.0</td>\n",
       "      <td>3079.038997</td>\n",
       "      <td>2018</td>\n",
       "      <td>14.246341</td>\n",
       "    </tr>\n",
       "    <tr>\n",
       "      <th>3</th>\n",
       "      <td>220</td>\n",
       "      <td>NaN</td>\n",
       "      <td>2542.392402</td>\n",
       "      <td>2009</td>\n",
       "      <td>16.912736</td>\n",
       "    </tr>\n",
       "    <tr>\n",
       "      <th>4</th>\n",
       "      <td>210</td>\n",
       "      <td>140.0</td>\n",
       "      <td>3460.870990</td>\n",
       "      <td>2009</td>\n",
       "      <td>12.488369</td>\n",
       "    </tr>\n",
       "    <tr>\n",
       "      <th>...</th>\n",
       "      <td>...</td>\n",
       "      <td>...</td>\n",
       "      <td>...</td>\n",
       "      <td>...</td>\n",
       "      <td>...</td>\n",
       "    </tr>\n",
       "    <tr>\n",
       "      <th>9699</th>\n",
       "      <td>140</td>\n",
       "      <td>164.0</td>\n",
       "      <td>2981.107371</td>\n",
       "      <td>2013</td>\n",
       "      <td>15.101802</td>\n",
       "    </tr>\n",
       "    <tr>\n",
       "      <th>9700</th>\n",
       "      <td>180</td>\n",
       "      <td>154.0</td>\n",
       "      <td>2439.525729</td>\n",
       "      <td>2004</td>\n",
       "      <td>17.962326</td>\n",
       "    </tr>\n",
       "    <tr>\n",
       "      <th>9701</th>\n",
       "      <td>220</td>\n",
       "      <td>138.0</td>\n",
       "      <td>2583.471318</td>\n",
       "      <td>2008</td>\n",
       "      <td>17.186587</td>\n",
       "    </tr>\n",
       "    <tr>\n",
       "      <th>9702</th>\n",
       "      <td>230</td>\n",
       "      <td>177.0</td>\n",
       "      <td>2905.527390</td>\n",
       "      <td>2011</td>\n",
       "      <td>15.331551</td>\n",
       "    </tr>\n",
       "    <tr>\n",
       "      <th>9703</th>\n",
       "      <td>270</td>\n",
       "      <td>140.0</td>\n",
       "      <td>2908.043477</td>\n",
       "      <td>2005</td>\n",
       "      <td>14.884467</td>\n",
       "    </tr>\n",
       "  </tbody>\n",
       "</table>\n",
       "<p>9704 rows × 5 columns</p>\n",
       "</div>"
      ],
      "text/plain": [
       "      engine_displacement  horsepower  vehicle_weight  model_year  \\\n",
       "0                     170       159.0     3413.433759        2003   \n",
       "1                     130        97.0     3149.664934        2007   \n",
       "2                     170        78.0     3079.038997        2018   \n",
       "3                     220         NaN     2542.392402        2009   \n",
       "4                     210       140.0     3460.870990        2009   \n",
       "...                   ...         ...             ...         ...   \n",
       "9699                  140       164.0     2981.107371        2013   \n",
       "9700                  180       154.0     2439.525729        2004   \n",
       "9701                  220       138.0     2583.471318        2008   \n",
       "9702                  230       177.0     2905.527390        2011   \n",
       "9703                  270       140.0     2908.043477        2005   \n",
       "\n",
       "      fuel_efficiency_mpg  \n",
       "0               13.231729  \n",
       "1               13.688217  \n",
       "2               14.246341  \n",
       "3               16.912736  \n",
       "4               12.488369  \n",
       "...                   ...  \n",
       "9699            15.101802  \n",
       "9700            17.962326  \n",
       "9701            17.186587  \n",
       "9702            15.331551  \n",
       "9703            14.884467  \n",
       "\n",
       "[9704 rows x 5 columns]"
      ]
     },
     "execution_count": 11,
     "metadata": {},
     "output_type": "execute_result"
    }
   ],
   "source": [
    "df"
   ]
  },
  {
   "cell_type": "code",
   "execution_count": 12,
   "metadata": {},
   "outputs": [],
   "source": [
    "def shuffle_and_split(df, random_seed=42, val_ratio=0.2, test_ratio=0.2):\n",
    "    np.random.seed(random_seed)\n",
    "\n",
    "    n = len(df)\n",
    "\n",
    "    n_val = int(val_ratio * n)\n",
    "    n_test = int(test_ratio * n)\n",
    "    n_train = n - (n_val + n_test)\n",
    "\n",
    "    idx = np.arange(n)\n",
    "    np.random.shuffle(idx)\n",
    "\n",
    "    df_shuffled = df.iloc[idx]\n",
    "\n",
    "    df_train = df_shuffled.iloc[:n_train].copy()\n",
    "    df_val = df_shuffled.iloc[n_train:n_train+n_val].copy()\n",
    "    df_test = df_shuffled.iloc[n_train+n_val:].copy()\n",
    "\n",
    "    return df_train, df_val, df_test\n",
    "\n",
    "df_train, _, _ = shuffle_and_split(df)"
   ]
  },
  {
   "cell_type": "code",
   "execution_count": 13,
   "metadata": {},
   "outputs": [
    {
     "data": {
      "text/plain": [
       "np.float64(149.54476367006487)"
      ]
     },
     "execution_count": 13,
     "metadata": {},
     "output_type": "execute_result"
    }
   ],
   "source": [
    "mean_df_train_horsepower = df_train.horsepower.mean()\n",
    "mean_df_train_horsepower"
   ]
  },
  {
   "cell_type": "code",
   "execution_count": 14,
   "metadata": {},
   "outputs": [],
   "source": [
    "df_zero = df.fillna(0)\n",
    "df_mean = df.fillna(mean_df_train_horsepower)"
   ]
  },
  {
   "cell_type": "code",
   "execution_count": 15,
   "metadata": {},
   "outputs": [],
   "source": [
    "df_train_zero, df_val_zero, df_test_zero = shuffle_and_split(df_zero)\n",
    "df_train_mean, df_val_mean, df_test_mean = shuffle_and_split(df_mean)"
   ]
  },
  {
   "cell_type": "code",
   "execution_count": 16,
   "metadata": {},
   "outputs": [
    {
     "data": {
      "text/plain": [
       "\"del df_train['fuel_efficiency_mpg']\\ndel df_val['fuel_efficiency_mpg']\\ndel df_test['fuel_efficiency_mpg']\""
      ]
     },
     "execution_count": 16,
     "metadata": {},
     "output_type": "execute_result"
    }
   ],
   "source": [
    "y_train_zero = df_train_zero.fuel_efficiency_mpg.values\n",
    "y_val_zero = df_val_zero.fuel_efficiency_mpg.values\n",
    "y_test_zero = df_test_zero.fuel_efficiency_mpg.values\n",
    "\n",
    "y_train_mean = df_train_mean.fuel_efficiency_mpg.values\n",
    "y_val_mean = df_val_mean.fuel_efficiency_mpg.values\n",
    "y_test_mean = df_test_mean.fuel_efficiency_mpg.values\n",
    "\n",
    "\n",
    "y_train_log_zero = np.log1p(y_train_zero)\n",
    "y_val_log_zero = np.log1p(y_val_zero)\n",
    "y_test_log_zero = np.log1p(y_test_zero)\n",
    "\n",
    "y_train_log_mean = np.log1p(y_train_mean)\n",
    "y_val_log_mean = np.log1p(y_val_mean)\n",
    "y_test_log_mean = np.log1p(y_test_mean)\n",
    "\n",
    "'''del df_train['fuel_efficiency_mpg']\n",
    "del df_val['fuel_efficiency_mpg']\n",
    "del df_test['fuel_efficiency_mpg']'''"
   ]
  },
  {
   "cell_type": "markdown",
   "metadata": {},
   "source": [
    "## Linear Regression"
   ]
  },
  {
   "cell_type": "code",
   "execution_count": 17,
   "metadata": {},
   "outputs": [],
   "source": [
    "def train_linear_regression(X, y):\n",
    "    ones = np.ones(X.shape[0])\n",
    "    X = np.column_stack([ones, X])\n",
    "\n",
    "    XTX = X.T.dot(X)\n",
    "    XTX_inv = np.linalg.inv(XTX)\n",
    "    w = XTX_inv.dot(X.T).dot(y)\n",
    "\n",
    "    return w[0], w[1:]"
   ]
  },
  {
   "cell_type": "markdown",
   "metadata": {},
   "source": [
    "## Baseline solution"
   ]
  },
  {
   "cell_type": "code",
   "execution_count": 18,
   "metadata": {},
   "outputs": [],
   "source": [
    "base = [\n",
    "    'engine_displacement',\n",
    "    'horsepower',\n",
    "    'vehicle_weight',\n",
    "    'model_year',\n",
    "]"
   ]
  },
  {
   "cell_type": "code",
   "execution_count": 19,
   "metadata": {},
   "outputs": [],
   "source": [
    "def prepare_X(df, replace_nan_with=0):\n",
    "    df_num = df[base]\n",
    "    df_num = df_num.fillna(replace_nan_with)\n",
    "    X = df_num.values\n",
    "    return X"
   ]
  },
  {
   "cell_type": "code",
   "execution_count": 20,
   "metadata": {},
   "outputs": [],
   "source": [
    "X_train_zero = prepare_X(df_train_zero)\n",
    "w_0_zero, w_zero = train_linear_regression(X_train_zero, y_train_zero)\n",
    "y_pred_train_zero = w_0_zero + X_train_zero.dot(w_zero)\n",
    "\n",
    "X_val_zero = prepare_X(df_val_zero)\n",
    "y_pred_val_zero = w_0_zero + X_val_zero.dot(w_zero)\n",
    "\n",
    "X_test_zero = prepare_X(df_test_zero)\n",
    "y_pred_test_zero = w_0_zero + X_test_zero.dot(w_zero)\n",
    "\n",
    "\n",
    "X_train_mean = prepare_X(df_train_mean)\n",
    "w_0_mean, w_mean = train_linear_regression(X_train_mean, y_train_mean)\n",
    "y_pred_train_mean = w_0_mean + X_train_mean.dot(w_mean)\n",
    "\n",
    "X_val_mean = prepare_X(df_val_mean)\n",
    "y_pred_val_mean = w_0_mean + X_val_mean.dot(w_mean)\n",
    "\n",
    "X_test_mean = prepare_X(df_test_mean)\n",
    "y_pred_test_mean = w_0_mean + X_test_mean.dot(w_mean)"
   ]
  },
  {
   "cell_type": "code",
   "execution_count": 21,
   "metadata": {},
   "outputs": [
    {
     "data": {
      "image/png": "[encoded data removed]",
      "text/plain": [
       "<Figure size 600x400 with 1 Axes>"
      ]
     },
     "metadata": {},
     "output_type": "display_data"
    },
    {
     "data": {
      "image/png": "[encoded data removed]",
      "text/plain": [
       "<Figure size 600x400 with 1 Axes>"
      ]
     },
     "metadata": {},
     "output_type": "display_data"
    }
   ],
   "source": [
    "plt.figure(figsize=(6, 4))\n",
    "\n",
    "sns.histplot(y_train_zero, label='target', color='#222222', alpha=0.6, bins=40)\n",
    "sns.histplot(y_pred_train_zero, label='prediction', color='#aaaaaa', alpha=0.8, bins=40)\n",
    "\n",
    "plt.legend()\n",
    "\n",
    "plt.ylabel('Frequency')\n",
    "#plt.xlabel('Log(Price + 1)')\n",
    "plt.xlabel('fuel_efficiency_mpg')\n",
    "plt.title('TRAIN-ZERO: Predictions vs actual distribution')\n",
    "\n",
    "plt.show()\n",
    "\n",
    "plt.figure(figsize=(6, 4))\n",
    "\n",
    "sns.histplot(y_train_mean, label='target', color='#222222', alpha=0.6, bins=40)\n",
    "sns.histplot(y_pred_train_mean, label='prediction', color='#aaaaaa', alpha=0.8, bins=40)\n",
    "\n",
    "plt.legend()\n",
    "\n",
    "plt.ylabel('Frequency')\n",
    "#plt.xlabel('Log(Price + 1)')\n",
    "plt.xlabel('fuel_efficiency_mpg')\n",
    "plt.title('TRAIN-MEAN: Predictions vs actual distribution')\n",
    "\n",
    "plt.show()"
   ]
  },
  {
   "cell_type": "code",
   "execution_count": 22,
   "metadata": {},
   "outputs": [],
   "source": [
    "def rmse(y, y_pred):\n",
    "    error = y_pred - y\n",
    "    mse = (error ** 2).mean()\n",
    "    return np.sqrt(mse)"
   ]
  },
  {
   "cell_type": "code",
   "execution_count": 23,
   "metadata": {},
   "outputs": [],
   "source": [
    "rmse_train_zero = rmse(y_train_zero, y_pred_train_zero)\n",
    "rmse_val_zero = rmse(y_val_zero, y_pred_val_zero)\n",
    "rmse_test_zero = rmse(y_test_zero, y_pred_test_zero)\n",
    "\n",
    "rmse_train_mean = rmse(y_train_mean, y_pred_train_mean)\n",
    "rmse_val_mean = rmse(y_val_mean, y_pred_val_mean)\n",
    "rmse_test_mean = rmse(y_test_mean, y_pred_test_mean)"
   ]
  },
  {
   "cell_type": "code",
   "execution_count": 24,
   "metadata": {},
   "outputs": [
    {
     "name": "stdout",
     "output_type": "stream",
     "text": [
      "Training -------- Zero: 0.52 Mean: 0.46\n",
      "++++++++++++++++++++++++++++++++++++++++++++++++++++++++++++\n",
      "VALIDATION--- ZERO: 0.52 Mean: 0.46\n",
      "++++++++++++++++++++++++++++++++++++++++++++++++++++++++++++\n",
      "Test -------------- Zero: 0.52 Mean: 0.46\n"
     ]
    }
   ],
   "source": [
    "def print_results(rnd=2):\n",
    "    print(\"Training -------- Zero: %s Mean: %s\" % (round(rmse_train_zero, rnd), round(rmse_train_mean, rnd)))\n",
    "    print(\"+\"*60)\n",
    "    print(\"VALIDATION--- ZERO: %s Mean: %s\" % (round(rmse_val_zero, rnd), round(rmse_val_mean, rnd)))\n",
    "    print(\"+\"*60)\n",
    "    print(\"Test -------------- Zero: %s Mean: %s\" % (round(rmse_test_zero, rnd), round(rmse_test_mean, rnd)))\n",
    "\n",
    "print_results()"
   ]
  },
  {
   "cell_type": "markdown",
   "metadata": {},
   "source": [
    "## Simple feature engineering"
   ]
  },
  {
   "cell_type": "code",
   "execution_count": 25,
   "metadata": {},
   "outputs": [
    {
     "data": {
      "text/plain": [
       "\"def prepare_X(df):\\n    df = df.copy()\\n    features = base.copy()\\n\\n    df['age'] = 2017 - df.year\\n    features.append('age')\\n\\n    df_num = df[features]\\n    df_num = df_num.fillna(0)\\n    X = df_num.values\\n    return X\""
      ]
     },
     "execution_count": 25,
     "metadata": {},
     "output_type": "execute_result"
    }
   ],
   "source": [
    "'''def prepare_X(df):\n",
    "    df = df.copy()\n",
    "    features = base.copy()\n",
    "\n",
    "    df['age'] = 2017 - df.year\n",
    "    features.append('age')\n",
    "\n",
    "    df_num = df[features]\n",
    "    df_num = df_num.fillna(0)\n",
    "    X = df_num.values\n",
    "    return X'''"
   ]
  },
  {
   "cell_type": "code",
   "execution_count": 26,
   "metadata": {},
   "outputs": [
    {
     "data": {
      "text/plain": [
       "\"X_train = prepare_X(df_train)\\nw_0, w = train_linear_regression(X_train, y_train)\\n\\ny_pred = w_0 + X_train.dot(w)\\nprint('train', rmse(y_train, y_pred))\\n\\nX_val = prepare_X(df_val)\\ny_pred = w_0 + X_val.dot(w)\\nprint('validation', rmse(y_val, y_pred))\""
      ]
     },
     "execution_count": 26,
     "metadata": {},
     "output_type": "execute_result"
    }
   ],
   "source": [
    "'''X_train = prepare_X(df_train)\n",
    "w_0, w = train_linear_regression(X_train, y_train)\n",
    "\n",
    "y_pred = w_0 + X_train.dot(w)\n",
    "print('train', rmse(y_train, y_pred))\n",
    "\n",
    "X_val = prepare_X(df_val)\n",
    "y_pred = w_0 + X_val.dot(w)\n",
    "print('validation', rmse(y_val, y_pred))'''"
   ]
  },
  {
   "cell_type": "code",
   "execution_count": 27,
   "metadata": {},
   "outputs": [
    {
     "data": {
      "image/png": "[encoded data removed]",
      "text/plain": [
       "<Figure size 600x400 with 1 Axes>"
      ]
     },
     "metadata": {},
     "output_type": "display_data"
    },
    {
     "data": {
      "image/png": "[encoded data removed]",
      "text/plain": [
       "<Figure size 600x400 with 1 Axes>"
      ]
     },
     "metadata": {},
     "output_type": "display_data"
    }
   ],
   "source": [
    "plt.figure(figsize=(6, 4))\n",
    "\n",
    "\n",
    "sns.histplot(y_val_zero, label='target', color='#222222', alpha=0.6, bins=40)\n",
    "sns.histplot(y_pred_val_zero, label='prediction', color='#aaaaaa', alpha=0.8, bins=40)\n",
    "\n",
    "plt.legend()\n",
    "\n",
    "plt.ylabel('Frequency')\n",
    "plt.xlabel('fuel_efficiency_mpg')\n",
    "plt.title('VAL-ZERO: Predictions vs actual distribution')\n",
    "\n",
    "plt.show()\n",
    "\n",
    "plt.figure(figsize=(6, 4))\n",
    "\n",
    "\n",
    "sns.histplot(y_val_mean, label='target', color='#222222', alpha=0.6, bins=40)\n",
    "sns.histplot(y_pred_val_mean, label='prediction', color='#aaaaaa', alpha=0.8, bins=40)\n",
    "\n",
    "plt.legend()\n",
    "\n",
    "plt.ylabel('Frequency')\n",
    "plt.xlabel('fuel_efficiency_mpg')\n",
    "plt.title('VAL-MEAN: Predictions vs actual distribution')\n",
    "\n",
    "plt.show()"
   ]
  },
  {
   "cell_type": "code",
   "execution_count": 28,
   "metadata": {},
   "outputs": [
    {
     "data": {
      "image/png": "[encoded data removed]",
      "text/plain": [
       "<Figure size 600x400 with 1 Axes>"
      ]
     },
     "metadata": {},
     "output_type": "display_data"
    },
    {
     "data": {
      "image/png": "[encoded data removed]",
      "text/plain": [
       "<Figure size 600x400 with 1 Axes>"
      ]
     },
     "metadata": {},
     "output_type": "display_data"
    }
   ],
   "source": [
    "plt.figure(figsize=(6, 4))\n",
    "\n",
    "\n",
    "sns.histplot(y_test_zero, label='target', color='#222222', alpha=0.6, bins=40)\n",
    "sns.histplot(y_pred_test_zero, label='prediction', color='#aaaaaa', alpha=0.8, bins=40)\n",
    "\n",
    "plt.legend()\n",
    "\n",
    "plt.ylabel('Frequency')\n",
    "plt.xlabel('fuel_efficiency_mpg')\n",
    "plt.title('TEST-ZERO: Predictions vs actual distribution')\n",
    "\n",
    "plt.show()\n",
    "\n",
    "plt.figure(figsize=(6, 4))\n",
    "\n",
    "\n",
    "sns.histplot(y_test_mean, label='target', color='#222222', alpha=0.6, bins=40)\n",
    "sns.histplot(y_pred_test_mean, label='prediction', color='#aaaaaa', alpha=0.8, bins=40)\n",
    "\n",
    "plt.legend()\n",
    "\n",
    "plt.ylabel('Frequency')\n",
    "plt.xlabel('fuel_efficiency_mpg')\n",
    "plt.title('TEST-MEAN: Predictions vs actual distribution')\n",
    "\n",
    "plt.show()"
   ]
  },
  {
   "cell_type": "code",
   "execution_count": 29,
   "metadata": {},
   "outputs": [
    {
     "data": {
      "text/plain": [
       "\"df['make'].value_counts().head(5)\""
      ]
     },
     "execution_count": 29,
     "metadata": {},
     "output_type": "execute_result"
    }
   ],
   "source": [
    "'''df['make'].value_counts().head(5)'''"
   ]
  },
  {
   "cell_type": "code",
   "execution_count": 30,
   "metadata": {},
   "outputs": [
    {
     "data": {
      "text/plain": [
       "\"def prepare_X(df):\\n    df = df.copy()\\n    features = base.copy()\\n\\n    df['age'] = 2017 - df.year\\n    features.append('age')\\n\\n    for v in [2, 3, 4]:\\n        feature = 'num_doors_%s' % v\\n        df[feature] = (df['number_of_doors'] == v).astype(int)\\n        features.append(feature)\\n\\n    for v in ['chevrolet', 'ford', 'volkswagen', 'toyota', 'dodge']:\\n        feature = 'is_make_%s' % v\\n        df[feature] = (df['make'] == v).astype(int)\\n        features.append(feature)\\n\\n    df_num = df[features]\\n    df_num = df_num.fillna(0)\\n    X = df_num.values\\n    return X\""
      ]
     },
     "execution_count": 30,
     "metadata": {},
     "output_type": "execute_result"
    }
   ],
   "source": [
    "'''def prepare_X(df):\n",
    "    df = df.copy()\n",
    "    features = base.copy()\n",
    "\n",
    "    df['age'] = 2017 - df.year\n",
    "    features.append('age')\n",
    "\n",
    "    for v in [2, 3, 4]:\n",
    "        feature = 'num_doors_%s' % v\n",
    "        df[feature] = (df['number_of_doors'] == v).astype(int)\n",
    "        features.append(feature)\n",
    "\n",
    "    for v in ['chevrolet', 'ford', 'volkswagen', 'toyota', 'dodge']:\n",
    "        feature = 'is_make_%s' % v\n",
    "        df[feature] = (df['make'] == v).astype(int)\n",
    "        features.append(feature)\n",
    "\n",
    "    df_num = df[features]\n",
    "    df_num = df_num.fillna(0)\n",
    "    X = df_num.values\n",
    "    return X'''"
   ]
  },
  {
   "cell_type": "code",
   "execution_count": 31,
   "metadata": {},
   "outputs": [
    {
     "data": {
      "text/plain": [
       "\"X_train = prepare_X(df_train)\\nw_0, w = train_linear_regression(X_train, y_train)\\n\\ny_pred = w_0 + X_train.dot(w)\\nprint('train:', rmse(y_train, y_pred))\\n\\nX_val = prepare_X(df_val)\\ny_pred = w_0 + X_val.dot(w)\\nprint('validation:', rmse(y_val, y_pred))\""
      ]
     },
     "execution_count": 31,
     "metadata": {},
     "output_type": "execute_result"
    }
   ],
   "source": [
    "'''X_train = prepare_X(df_train)\n",
    "w_0, w = train_linear_regression(X_train, y_train)\n",
    "\n",
    "y_pred = w_0 + X_train.dot(w)\n",
    "print('train:', rmse(y_train, y_pred))\n",
    "\n",
    "X_val = prepare_X(df_val)\n",
    "y_pred = w_0 + X_val.dot(w)\n",
    "print('validation:', rmse(y_val, y_pred))'''"
   ]
  },
  {
   "cell_type": "code",
   "execution_count": 32,
   "metadata": {},
   "outputs": [
    {
     "data": {
      "text/plain": [
       "\"df['engine_fuel_type'].value_counts()\""
      ]
     },
     "execution_count": 32,
     "metadata": {},
     "output_type": "execute_result"
    }
   ],
   "source": [
    "'''df['engine_fuel_type'].value_counts()'''"
   ]
  },
  {
   "cell_type": "code",
   "execution_count": 33,
   "metadata": {},
   "outputs": [
    {
     "data": {
      "text/plain": [
       "\"def prepare_X(df):\\n    df = df.copy()\\n    features = base.copy()\\n\\n    df['age'] = 2017 - df.year\\n    features.append('age')\\n\\n    for v in [2, 3, 4]:\\n        feature = 'num_doors_%s' % v\\n        df[feature] = (df['number_of_doors'] == v).astype(int)\\n        features.append(feature)\\n\\n    for v in ['chevrolet', 'ford', 'volkswagen', 'toyota', 'dodge']:\\n        feature = 'is_make_%s' % v\\n        df[feature] = (df['make'] == v).astype(int)\\n        features.append(feature)\\n\\n    for v in ['regular_unleaded', 'premium_unleaded_(required)',\\n              'premium_unleaded_(recommended)', 'flex-fuel_(unleaded/e85)']:\\n        feature = 'is_type_%s' % v\\n        df[feature] = (df['engine_fuel_type'] == v).astype(int)\\n        features.append(feature)\\n\\n    df_num = df[features]\\n    df_num = df_num.fillna(0)\\n    X = df_num.values\\n    return X\""
      ]
     },
     "execution_count": 33,
     "metadata": {},
     "output_type": "execute_result"
    }
   ],
   "source": [
    "'''def prepare_X(df):\n",
    "    df = df.copy()\n",
    "    features = base.copy()\n",
    "\n",
    "    df['age'] = 2017 - df.year\n",
    "    features.append('age')\n",
    "\n",
    "    for v in [2, 3, 4]:\n",
    "        feature = 'num_doors_%s' % v\n",
    "        df[feature] = (df['number_of_doors'] == v).astype(int)\n",
    "        features.append(feature)\n",
    "\n",
    "    for v in ['chevrolet', 'ford', 'volkswagen', 'toyota', 'dodge']:\n",
    "        feature = 'is_make_%s' % v\n",
    "        df[feature] = (df['make'] == v).astype(int)\n",
    "        features.append(feature)\n",
    "\n",
    "    for v in ['regular_unleaded', 'premium_unleaded_(required)',\n",
    "              'premium_unleaded_(recommended)', 'flex-fuel_(unleaded/e85)']:\n",
    "        feature = 'is_type_%s' % v\n",
    "        df[feature] = (df['engine_fuel_type'] == v).astype(int)\n",
    "        features.append(feature)\n",
    "\n",
    "    df_num = df[features]\n",
    "    df_num = df_num.fillna(0)\n",
    "    X = df_num.values\n",
    "    return X'''"
   ]
  },
  {
   "cell_type": "code",
   "execution_count": 34,
   "metadata": {},
   "outputs": [
    {
     "data": {
      "text/plain": [
       "\"X_train = prepare_X(df_train)\\nw_0, w = train_linear_regression(X_train, y_train)\\n\\ny_pred = w_0 + X_train.dot(w)\\nprint('train:', rmse(y_train, y_pred))\\n\\nX_val = prepare_X(df_val)\\ny_pred = w_0 + X_val.dot(w)\\nprint('validation:', rmse(y_val, y_pred))\""
      ]
     },
     "execution_count": 34,
     "metadata": {},
     "output_type": "execute_result"
    }
   ],
   "source": [
    "'''X_train = prepare_X(df_train)\n",
    "w_0, w = train_linear_regression(X_train, y_train)\n",
    "\n",
    "y_pred = w_0 + X_train.dot(w)\n",
    "print('train:', rmse(y_train, y_pred))\n",
    "\n",
    "X_val = prepare_X(df_val)\n",
    "y_pred = w_0 + X_val.dot(w)\n",
    "print('validation:', rmse(y_val, y_pred))'''"
   ]
  },
  {
   "cell_type": "code",
   "execution_count": 35,
   "metadata": {},
   "outputs": [
    {
     "data": {
      "text/plain": [
       "\"df['transmission_type'].value_counts()\""
      ]
     },
     "execution_count": 35,
     "metadata": {},
     "output_type": "execute_result"
    }
   ],
   "source": [
    "'''df['transmission_type'].value_counts()'''"
   ]
  },
  {
   "cell_type": "code",
   "execution_count": 36,
   "metadata": {},
   "outputs": [
    {
     "data": {
      "text/plain": [
       "\"def prepare_X(df):\\n    df = df.copy()\\n    features = base.copy()\\n\\n    df['age'] = 2017 - df.year\\n    features.append('age')\\n\\n    for v in [2, 3, 4]:\\n        feature = 'num_doors_%s' % v\\n        df[feature] = (df['number_of_doors'] == v).astype(int)\\n        features.append(feature)\\n\\n    for v in ['chevrolet', 'ford', 'volkswagen', 'toyota', 'dodge']:\\n        feature = 'is_make_%s' % v\\n        df[feature] = (df['make'] == v).astype(int)\\n        features.append(feature)\\n\\n    for v in ['regular_unleaded', 'premium_unleaded_(required)',\\n              'premium_unleaded_(recommended)', 'flex-fuel_(unleaded/e85)']:\\n        feature = 'is_type_%s' % v\\n        df[feature] = (df['engine_fuel_type'] == v).astype(int)\\n        features.append(feature)\\n\\n    for v in ['automatic', 'manual', 'automated_manual']:\\n        feature = 'is_transmission_%s' % v\\n        df[feature] = (df['transmission_type'] == v).astype(int)\\n        features.append(feature)\\n\\n    df_num = df[features]\\n    df_num = df_num.fillna(0)\\n    X = df_num.values\\n    return X\""
      ]
     },
     "execution_count": 36,
     "metadata": {},
     "output_type": "execute_result"
    }
   ],
   "source": [
    "'''def prepare_X(df):\n",
    "    df = df.copy()\n",
    "    features = base.copy()\n",
    "\n",
    "    df['age'] = 2017 - df.year\n",
    "    features.append('age')\n",
    "\n",
    "    for v in [2, 3, 4]:\n",
    "        feature = 'num_doors_%s' % v\n",
    "        df[feature] = (df['number_of_doors'] == v).astype(int)\n",
    "        features.append(feature)\n",
    "\n",
    "    for v in ['chevrolet', 'ford', 'volkswagen', 'toyota', 'dodge']:\n",
    "        feature = 'is_make_%s' % v\n",
    "        df[feature] = (df['make'] == v).astype(int)\n",
    "        features.append(feature)\n",
    "\n",
    "    for v in ['regular_unleaded', 'premium_unleaded_(required)',\n",
    "              'premium_unleaded_(recommended)', 'flex-fuel_(unleaded/e85)']:\n",
    "        feature = 'is_type_%s' % v\n",
    "        df[feature] = (df['engine_fuel_type'] == v).astype(int)\n",
    "        features.append(feature)\n",
    "\n",
    "    for v in ['automatic', 'manual', 'automated_manual']:\n",
    "        feature = 'is_transmission_%s' % v\n",
    "        df[feature] = (df['transmission_type'] == v).astype(int)\n",
    "        features.append(feature)\n",
    "\n",
    "    df_num = df[features]\n",
    "    df_num = df_num.fillna(0)\n",
    "    X = df_num.values\n",
    "    return X'''"
   ]
  },
  {
   "cell_type": "code",
   "execution_count": 37,
   "metadata": {},
   "outputs": [
    {
     "data": {
      "text/plain": [
       "\"X_train = prepare_X(df_train)\\nw_0, w = train_linear_regression(X_train, y_train)\\n\\ny_pred = w_0 + X_train.dot(w)\\nprint('train:', rmse(y_train, y_pred))\\n\\nX_val = prepare_X(df_val)\\ny_pred = w_0 + X_val.dot(w)\\nprint('validation:', rmse(y_val, y_pred))\""
      ]
     },
     "execution_count": 37,
     "metadata": {},
     "output_type": "execute_result"
    }
   ],
   "source": [
    "'''X_train = prepare_X(df_train)\n",
    "w_0, w = train_linear_regression(X_train, y_train)\n",
    "\n",
    "y_pred = w_0 + X_train.dot(w)\n",
    "print('train:', rmse(y_train, y_pred))\n",
    "\n",
    "X_val = prepare_X(df_val)\n",
    "y_pred = w_0 + X_val.dot(w)\n",
    "print('validation:', rmse(y_val, y_pred))'''"
   ]
  },
  {
   "cell_type": "code",
   "execution_count": 38,
   "metadata": {},
   "outputs": [
    {
     "data": {
      "text/plain": [
       "\"df['driven_wheels'].value_counts()\""
      ]
     },
     "execution_count": 38,
     "metadata": {},
     "output_type": "execute_result"
    }
   ],
   "source": [
    "'''df['driven_wheels'].value_counts()'''"
   ]
  },
  {
   "cell_type": "code",
   "execution_count": 39,
   "metadata": {},
   "outputs": [
    {
     "data": {
      "text/plain": [
       "\"df['market_category'].value_counts().head(5)\""
      ]
     },
     "execution_count": 39,
     "metadata": {},
     "output_type": "execute_result"
    }
   ],
   "source": [
    "'''df['market_category'].value_counts().head(5)'''"
   ]
  },
  {
   "cell_type": "code",
   "execution_count": 40,
   "metadata": {},
   "outputs": [
    {
     "data": {
      "text/plain": [
       "\"df['vehicle_size'].value_counts().head(5)\""
      ]
     },
     "execution_count": 40,
     "metadata": {},
     "output_type": "execute_result"
    }
   ],
   "source": [
    "'''df['vehicle_size'].value_counts().head(5)'''"
   ]
  },
  {
   "cell_type": "code",
   "execution_count": 41,
   "metadata": {},
   "outputs": [
    {
     "data": {
      "text/plain": [
       "\"df['vehicle_style'].value_counts().head(5)\""
      ]
     },
     "execution_count": 41,
     "metadata": {},
     "output_type": "execute_result"
    }
   ],
   "source": [
    "'''df['vehicle_style'].value_counts().head(5)'''"
   ]
  },
  {
   "cell_type": "code",
   "execution_count": 42,
   "metadata": {},
   "outputs": [
    {
     "data": {
      "text/plain": [
       "\"def prepare_X(df):\\n    df = df.copy()\\n    features = base.copy()\\n\\n    df['age'] = 2017 - df.year\\n    features.append('age')\\n\\n    for v in [2, 3, 4]:\\n        feature = 'num_doors_%s' % v\\n        df[feature] = (df['number_of_doors'] == v).astype(int)\\n        features.append(feature)\\n\\n    for v in ['chevrolet', 'ford', 'volkswagen', 'toyota', 'dodge']:\\n        feature = 'is_make_%s' % v\\n        df[feature] = (df['make'] == v).astype(int)\\n        features.append(feature)\\n\\n    for v in ['regular_unleaded', 'premium_unleaded_(required)',\\n              'premium_unleaded_(recommended)', 'flex-fuel_(unleaded/e85)']:\\n        feature = 'is_type_%s' % v\\n        df[feature] = (df['engine_fuel_type'] == v).astype(int)\\n        features.append(feature)\\n\\n    for v in ['automatic', 'manual', 'automated_manual']:\\n        feature = 'is_transmission_%s' % v\\n        df[feature] = (df['transmission_type'] == v).astype(int)\\n        features.append(feature)\\n\\n    for v in ['front_wheel_drive', 'rear_wheel_drive', 'all_wheel_drive', 'four_wheel_drive']:\\n        feature = 'is_driven_wheens_%s' % v\\n        df[feature] = (df['driven_wheels'] == v).astype(int)\\n        features.append(feature)\\n\\n    for v in ['crossover', 'flex_fuel', 'luxury', 'luxury,performance', 'hatchback']:\\n        feature = 'is_mc_%s' % v\\n        df[feature] = (df['market_category'] == v).astype(int)\\n        features.append(feature)\\n\\n    for v in ['compact', 'midsize', 'large']:\\n        feature = 'is_size_%s' % v\\n        df[feature] = (df['vehicle_size'] == v).astype(int)\\n        features.append(feature)\\n\\n    for v in ['sedan', '4dr_suv', 'coupe', 'convertible', '4dr_hatchback']:\\n        feature = 'is_style_%s' % v\\n        df[feature] = (df['vehicle_style'] == v).astype(int)\\n        features.append(feature)\\n\\n    df_num = df[features]\\n    df_num = df_num.fillna(0)\\n    X = df_num.values\\n    return X\""
      ]
     },
     "execution_count": 42,
     "metadata": {},
     "output_type": "execute_result"
    }
   ],
   "source": [
    "'''def prepare_X(df):\n",
    "    df = df.copy()\n",
    "    features = base.copy()\n",
    "\n",
    "    df['age'] = 2017 - df.year\n",
    "    features.append('age')\n",
    "\n",
    "    for v in [2, 3, 4]:\n",
    "        feature = 'num_doors_%s' % v\n",
    "        df[feature] = (df['number_of_doors'] == v).astype(int)\n",
    "        features.append(feature)\n",
    "\n",
    "    for v in ['chevrolet', 'ford', 'volkswagen', 'toyota', 'dodge']:\n",
    "        feature = 'is_make_%s' % v\n",
    "        df[feature] = (df['make'] == v).astype(int)\n",
    "        features.append(feature)\n",
    "\n",
    "    for v in ['regular_unleaded', 'premium_unleaded_(required)',\n",
    "              'premium_unleaded_(recommended)', 'flex-fuel_(unleaded/e85)']:\n",
    "        feature = 'is_type_%s' % v\n",
    "        df[feature] = (df['engine_fuel_type'] == v).astype(int)\n",
    "        features.append(feature)\n",
    "\n",
    "    for v in ['automatic', 'manual', 'automated_manual']:\n",
    "        feature = 'is_transmission_%s' % v\n",
    "        df[feature] = (df['transmission_type'] == v).astype(int)\n",
    "        features.append(feature)\n",
    "\n",
    "    for v in ['front_wheel_drive', 'rear_wheel_drive', 'all_wheel_drive', 'four_wheel_drive']:\n",
    "        feature = 'is_driven_wheens_%s' % v\n",
    "        df[feature] = (df['driven_wheels'] == v).astype(int)\n",
    "        features.append(feature)\n",
    "\n",
    "    for v in ['crossover', 'flex_fuel', 'luxury', 'luxury,performance', 'hatchback']:\n",
    "        feature = 'is_mc_%s' % v\n",
    "        df[feature] = (df['market_category'] == v).astype(int)\n",
    "        features.append(feature)\n",
    "\n",
    "    for v in ['compact', 'midsize', 'large']:\n",
    "        feature = 'is_size_%s' % v\n",
    "        df[feature] = (df['vehicle_size'] == v).astype(int)\n",
    "        features.append(feature)\n",
    "\n",
    "    for v in ['sedan', '4dr_suv', 'coupe', 'convertible', '4dr_hatchback']:\n",
    "        feature = 'is_style_%s' % v\n",
    "        df[feature] = (df['vehicle_style'] == v).astype(int)\n",
    "        features.append(feature)\n",
    "\n",
    "    df_num = df[features]\n",
    "    df_num = df_num.fillna(0)\n",
    "    X = df_num.values\n",
    "    return X'''"
   ]
  },
  {
   "cell_type": "code",
   "execution_count": 43,
   "metadata": {},
   "outputs": [
    {
     "data": {
      "text/plain": [
       "\"X_train = prepare_X(df_train)\\nw_0, w = train_linear_regression(X_train, y_train)\\n\\ny_pred = w_0 + X_train.dot(w)\\nprint('train:', rmse(y_train, y_pred))\\n\\nX_val = prepare_X(df_val)\\ny_pred = w_0 + X_val.dot(w)\\nprint('validation:', rmse(y_val, y_pred))\""
      ]
     },
     "execution_count": 43,
     "metadata": {},
     "output_type": "execute_result"
    }
   ],
   "source": [
    "'''X_train = prepare_X(df_train)\n",
    "w_0, w = train_linear_regression(X_train, y_train)\n",
    "\n",
    "y_pred = w_0 + X_train.dot(w)\n",
    "print('train:', rmse(y_train, y_pred))\n",
    "\n",
    "X_val = prepare_X(df_val)\n",
    "y_pred = w_0 + X_val.dot(w)\n",
    "print('validation:', rmse(y_val, y_pred))'''"
   ]
  },
  {
   "cell_type": "code",
   "execution_count": 44,
   "metadata": {},
   "outputs": [
    {
     "data": {
      "text/plain": [
       "'w_0'"
      ]
     },
     "execution_count": 44,
     "metadata": {},
     "output_type": "execute_result"
    }
   ],
   "source": [
    "'''w_0'''"
   ]
  },
  {
   "cell_type": "markdown",
   "metadata": {},
   "source": [
    "# Question 4\n",
    "\n",
    "- Now let's train a regularized linear regression.\n",
    "- For this question, fill the NAs with 0.\n",
    "- Try different values of `r` from this list: `[0, 0.01, 0.1, 1, 5, 10, 100]`.\n",
    "- Use RMSE to evaluate the model on the validation dataset.\n",
    "- Round the RMSE scores to 2 decimal digits.\n",
    "- Which `r` gives the best RMSE?\n",
    "\n",
    "If multiple options give the same best RMSE, select the smallest r.\n",
    "\n",
    "Options:\n",
    "\n",
    "- 0\n",
    "- 0.01\n",
    "- 1\n",
    "- 10\n",
    "- 100\n",
    "\n",
    "\n",
    "## Regularization"
   ]
  },
  {
   "cell_type": "code",
   "execution_count": 45,
   "metadata": {},
   "outputs": [],
   "source": [
    "def train_linear_regression_reg(X, y, r=0.0):\n",
    "    ones = np.ones(X.shape[0])\n",
    "    X = np.column_stack([ones, X])\n",
    "\n",
    "    XTX = X.T.dot(X)\n",
    "    reg = r * np.eye(XTX.shape[0])\n",
    "    XTX = XTX + reg\n",
    "\n",
    "    XTX_inv = np.linalg.inv(XTX)\n",
    "    w = XTX_inv.dot(X.T).dot(y)\n",
    "\n",
    "    return w[0], w[1:]"
   ]
  },
  {
   "cell_type": "code",
   "execution_count": 46,
   "metadata": {},
   "outputs": [],
   "source": [
    "X_train_zero = prepare_X(df_train_zero)\n",
    "X_test_zero = prepare_X(df_test_zero)\n",
    "X_val_zero = prepare_X(df_val_zero)\n",
    "\n",
    "y_train_zero = df_train_zero.fuel_efficiency_mpg.values\n",
    "y_val_zero = df_val_zero.fuel_efficiency_mpg.values\n",
    "y_test_zero = df_test_zero.fuel_efficiency_mpg.values"
   ]
  },
  {
   "cell_type": "code",
   "execution_count": 47,
   "metadata": {},
   "outputs": [
    {
     "name": "stdout",
     "output_type": "stream",
     "text": [
      "r= 0, \n",
      "w_0= 28.83,         0.00, 0.00, -0.01, 0.00\n",
      "validation 0.5174\n",
      "\n",
      "r= 0.01, \n",
      "w_0= 24.93,         0.00, 0.00, -0.01, 0.00\n",
      "validation 0.5171\n",
      "\n",
      "r= 0.1, \n",
      "w_0= 11.24,         0.00, 0.00, -0.01, 0.01\n",
      "validation 0.5188\n",
      "\n",
      "r= 1, \n",
      "w_0= 1.73,         0.00, 0.00, -0.01, 0.01\n",
      "validation 0.5222\n",
      "\n",
      "r= 5, \n",
      "w_0= 0.36,         0.00, 0.00, -0.01, 0.01\n",
      "validation 0.5229\n",
      "\n",
      "r= 10, \n",
      "w_0= 0.18,         0.00, 0.00, -0.01, 0.01\n",
      "validation 0.523\n",
      "\n",
      "r= 100, \n",
      "w_0= 0.02,         0.00, 0.00, -0.01, 0.01\n",
      "validation 0.5231\n",
      "\n"
     ]
    }
   ],
   "source": [
    "r_list = [0, 0.01, 0.1, 1, 5, 10, 100]\n",
    "rnd = 4\n",
    "\n",
    "i = 0\n",
    "w_0_reg = [0] * len(r_list)\n",
    "w_reg = [0] * len(r_list)\n",
    "y_pred_train_zero = [0] * len(r_list)\n",
    "y_pred_test_zero = [0] * len(r_list)\n",
    "y_pred_val_zero = [0] * len(r_list)\n",
    "rmse_train_zero = [0] * len(r_list)\n",
    "rmse_test_zero = [0] * len(r_list)\n",
    "rmse_val_zero = [0] * len(r_list)\n",
    "\n",
    "for r in r_list:\n",
    "    w_0_reg[i], w_reg[i] = train_linear_regression_reg(X_train_zero, y_train_zero, r=r)\n",
    "    print('r= %s, \\nw_0= %.2f,         %.2f, %.2f, %.2f, %.2f' % (r, w_0_reg[i], w_reg[i][0], w_reg[i][1], w_reg[i][2], w_reg[i][3]))\n",
    "\n",
    "    y_pred_train_zero[i] = w_0_reg[i] + X_train_zero.dot(w_reg[i])\n",
    "    rmse_train_zero = rmse(y_train_zero, y_pred_train_zero[i])\n",
    "    #print('train', round(rmse_train_zero, rnd))\n",
    "\n",
    "    y_pred_val_zero[i] = w_0_reg[i] + X_val_zero.dot(w_reg[i])\n",
    "    rmse_val_zero = rmse(y_val_zero, y_pred_val_zero[i])\n",
    "    print('validation', round(rmse_val_zero, rnd))\n",
    "\n",
    "    y_pred_test_zero[i] = w_0_reg[i] + X_test_zero.dot(w_reg[i])\n",
    "    rmse_test_zero = rmse(y_test_zero, y_pred_test_zero[i])\n",
    "    #print('test', round(rmse_test_zero, rnd))\n",
    "\n",
    "    print()\n",
    "    i += 1"
   ]
  },
  {
   "cell_type": "markdown",
   "metadata": {},
   "source": [
    "# Question 5\n",
    "\n",
    "- We used seed 42 for splitting the data. Let's find out how selecting the seed influences our score.\n",
    "- Try different seed values: `[0, 1, 2, 3, 4, 5, 6, 7, 8, 9]`.\n",
    "- For each seed, do the train/validation/test split with 60%/20%/20% distribution.\n",
    "- Fill the missing values with 0 and train a model without regularization.\n",
    "- For each seed, evaluate the model on the validation dataset and collect the RMSE scores.\n",
    "- What's the standard deviation of all the scores? To compute the standard deviation, use `np.std`.\n",
    "- Round the result to 3 decimal digits ( `round(std, 3)` )\n",
    "\n",
    "What's the value of std?\n",
    "\n",
    "- 0.001\n",
    "- 0.006\n",
    "- 0.060\n",
    "- 0.600\n",
    "\n",
    "**_NOTE:_** Standard deviation shows how different the values are. If it's low, then all values are approximately the same. If it's high, the values are different. If standard deviation of scores is low, then our model is stable.\n"
   ]
  },
  {
   "cell_type": "code",
   "execution_count": 48,
   "metadata": {},
   "outputs": [
    {
     "name": "stdout",
     "output_type": "stream",
     "text": [
      "seed= 0, \n",
      "w_0= 27.38,         0.00, 0.00, -0.01, 0.00\n",
      "validation 0.52065\n",
      "\n",
      "seed= 1, \n",
      "w_0= 29.02,         0.00, 0.00, -0.01, 0.00\n",
      "validation 0.52134\n",
      "\n",
      "seed= 2, \n",
      "w_0= 25.90,         0.00, 0.00, -0.01, 0.00\n",
      "validation 0.52281\n",
      "\n",
      "seed= 3, \n",
      "w_0= 28.02,         0.00, 0.00, -0.01, 0.00\n",
      "validation 0.51595\n",
      "\n",
      "seed= 4, \n",
      "w_0= 25.93,         0.00, 0.00, -0.01, 0.00\n",
      "validation 0.51091\n",
      "\n",
      "seed= 5, \n",
      "w_0= 25.90,         -0.00, 0.00, -0.01, 0.00\n",
      "validation 0.52834\n",
      "\n",
      "seed= 6, \n",
      "w_0= 25.92,         0.00, 0.00, -0.01, 0.00\n",
      "validation 0.53139\n",
      "\n",
      "seed= 7, \n",
      "w_0= 28.41,         0.00, 0.00, -0.01, 0.00\n",
      "validation 0.50907\n",
      "\n",
      "seed= 8, \n",
      "w_0= 26.48,         0.00, 0.00, -0.01, 0.00\n",
      "validation 0.51474\n",
      "\n",
      "seed= 9, \n",
      "w_0= 27.51,         -0.00, 0.00, -0.01, 0.00\n",
      "validation 0.51319\n",
      "\n",
      "Standard Deviation of Validation RMSEs: 0.00699\n"
     ]
    }
   ],
   "source": [
    "seed_list = [0, 1, 2, 3, 4, 5, 6, 7, 8, 9]\n",
    "rnd = 5\n",
    "i = 0\n",
    "\n",
    "df_train_zero = [0] * len(seed_list)\n",
    "df_val_zero = [0] * len(seed_list)\n",
    "df_test_zero = [0] * len(seed_list)\n",
    "\n",
    "X_train_zero = [0] * len(seed_list)\n",
    "X_val_zero = [0] * len(seed_list)\n",
    "X_test_zero = [0] * len(seed_list)\n",
    "\n",
    "y_train_zero = [0] * len(seed_list)\n",
    "y_val_zero = [0] * len(seed_list)\n",
    "y_test_zero = [0] * len(seed_list)\n",
    "\n",
    "w_0 = [0] * len(seed_list)\n",
    "w = [0] * len(seed_list)\n",
    "\n",
    "y_pred_train_zero = [0] * len(seed_list)\n",
    "y_pred_test_zero = [0] * len(seed_list)\n",
    "y_pred_val_zero = [0] * len(seed_list)\n",
    "\n",
    "rmse_train_zero = [0] * len(seed_list)\n",
    "rmse_test_zero = [0] * len(seed_list)\n",
    "rmse_val_zero = [0] * len(seed_list)\n",
    "\n",
    "for seed in seed_list:\n",
    "    df_train_zero[i], df_val_zero[i], df_test_zero[i] = shuffle_and_split(df_zero, seed)\n",
    "\n",
    "    X_train_zero[i] = prepare_X(df_train_zero[i])\n",
    "    X_val_zero[i] = prepare_X(df_val_zero[i])\n",
    "    X_test_zero[i] = prepare_X(df_test_zero[i])\n",
    "\n",
    "    y_train_zero[i] = df_train_zero[i].fuel_efficiency_mpg.values\n",
    "    y_val_zero[i] = df_val_zero[i].fuel_efficiency_mpg.values\n",
    "    y_test_zero[i] = df_test_zero[i].fuel_efficiency_mpg.values\n",
    "\n",
    "    w_0[i], w[i] = train_linear_regression(X_train_zero[i], y_train_zero[i])\n",
    "    print('seed= %s, \\nw_0= %.2f,         %.2f, %.2f, %.2f, %.2f' % (seed, w_0[i], w[i][0], w[i][1], w[i][2], w[i][3]))\n",
    "\n",
    "    y_pred_train_zero[i] = w_0[i] + X_train_zero[i].dot(w[i])\n",
    "    rmse_train_zero[i] = rmse(y_train_zero[i], y_pred_train_zero[i])\n",
    "    #print('train', round(rmse_train_zero[i], rnd))\n",
    "\n",
    "    y_pred_val_zero[i] = w_0[i] + X_val_zero[i].dot(w[i])\n",
    "    rmse_val_zero[i] = rmse(y_val_zero[i], y_pred_val_zero[i])\n",
    "    print('validation', round(rmse_val_zero[i], rnd))\n",
    "\n",
    "    y_pred_test_zero[i] = w_0[i] + X_test_zero[i].dot(w[i])\n",
    "    rmse_test_zero[i] = rmse(y_test_zero[i], y_pred_test_zero[i])\n",
    "    #print('test', round(rmse_test_zero[i], rnd))\n",
    "\n",
    "    print()\n",
    "    i += 1\n",
    "\n",
    "std_zero = np.std(rmse_val_zero)\n",
    "print('Standard Deviation of Validation RMSEs:', round(std_zero, rnd))"
   ]
  },
  {
   "cell_type": "markdown",
   "metadata": {},
   "source": [
    "# Question 6\n",
    "\n",
    "- Split the dataset like previously, use seed 9.\n",
    "- Combine train and validation datasets.\n",
    "- Fill the missing values with 0 and train a model with r=0.001.\n",
    "- What's the RMSE on the test dataset?\n",
    "\n",
    "Options:\n",
    "\n",
    "- 0.15\n",
    "- 0.515\n",
    "- 5.15\n",
    "- 51.5\n"
   ]
  },
  {
   "cell_type": "code",
   "execution_count": 49,
   "metadata": {},
   "outputs": [
    {
     "name": "stdout",
     "output_type": "stream",
     "text": [
      "w_0= 27.09,         -0.00, 0.00, -0.01, 0.00\n",
      "test 0.5158\n"
     ]
    }
   ],
   "source": [
    "seed = 9\n",
    "rnd = 4\n",
    "\n",
    "df_train_zero, df_val_zero, df_test_zero = shuffle_and_split(df_zero, seed)\n",
    "\n",
    "X_train_zero = prepare_X(df_train_zero)\n",
    "X_val_zero = prepare_X(df_val_zero)\n",
    "X_test_zero = prepare_X(df_test_zero)\n",
    "\n",
    "y_train_zero = df_train_zero.fuel_efficiency_mpg.values\n",
    "y_val_zero = df_val_zero.fuel_efficiency_mpg.values\n",
    "y_test_zero = df_test_zero.fuel_efficiency_mpg.values\n",
    "\n",
    "w_0, w = train_linear_regression_reg(X_train_zero, y_train_zero, r=0.001)\n",
    "print('w_0= %.2f,         %.2f, %.2f, %.2f, %.2f' % (w_0, w[0], w[1], w[2], w[3]))\n",
    "\n",
    "y_pred_train_zero = w_0 + X_train_zero.dot(w)\n",
    "rmse_train_zero = rmse(y_train_zero, y_pred_train_zero)\n",
    "#print('train', round(rmse_train_zero, rnd))\n",
    "\n",
    "y_pred_val_zero = w_0 + X_val_zero.dot(w)\n",
    "rmse_val_zero = rmse(y_val_zero, y_pred_val_zero)\n",
    "#print('validation', round(rmse_val_zero, rnd))\n",
    "\n",
    "y_pred_test_zero = w_0 + X_test_zero.dot(w)\n",
    "rmse_test_zero = rmse(y_test_zero, y_pred_test_zero)\n",
    "print('test', round(rmse_test_zero, rnd))"
   ]
  },
  {
   "cell_type": "code",
   "execution_count": null,
   "metadata": {},
   "outputs": [],
   "source": []
  }
 ],
 "metadata": {
  "anaconda-cloud": {},
  "kernelspec": {
   "display_name": "Python 3",
   "language": "python",
   "name": "python3"
  },
  "language_info": {
   "codemirror_mode": {
    "name": "ipython",
    "version": 3
   },
   "file_extension": ".py",
   "mimetype": "text/x-python",
   "name": "python",
   "nbconvert_exporter": "python",
   "pygments_lexer": "ipython3",
   "version": "3.13.7"
  }
 },
 "nbformat": 4,
 "nbformat_minor": 2
}
